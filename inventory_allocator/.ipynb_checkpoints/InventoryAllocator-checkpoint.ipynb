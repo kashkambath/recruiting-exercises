{
 "cells": [
  {
   "cell_type": "code",
   "execution_count": 52,
   "metadata": {},
   "outputs": [
    {
     "name": "stderr",
     "output_type": "stream",
     "text": [
      "E\n",
      "======================================================================\n",
      "ERROR: /Users/akaashkambath/Library/Jupyter/runtime/kernel-25a947b0-36cd-45cd-8f8e-85f2de1b4dcc (unittest.loader._FailedTest)\n",
      "----------------------------------------------------------------------\n",
      "AttributeError: module '__main__' has no attribute '/Users/akaashkambath/Library/Jupyter/runtime/kernel-25a947b0-36cd-45cd-8f8e-85f2de1b4dcc'\n",
      "\n",
      "----------------------------------------------------------------------\n",
      "Ran 1 test in 0.001s\n",
      "\n",
      "FAILED (errors=1)\n"
     ]
    },
    {
     "ename": "SystemExit",
     "evalue": "True",
     "output_type": "error",
     "traceback": [
      "An exception has occurred, use %tb to see the full traceback.\n",
      "\u001b[0;31mSystemExit\u001b[0m\u001b[0;31m:\u001b[0m True\n"
     ]
    },
    {
     "name": "stderr",
     "output_type": "stream",
     "text": [
      "/anaconda3/lib/python3.6/site-packages/IPython/core/interactiveshell.py:3275: UserWarning: To exit: use 'exit', 'quit', or Ctrl-D.\n",
      "  warn(\"To exit: use 'exit', 'quit', or Ctrl-D.\", stacklevel=1)\n"
     ]
    }
   ],
   "source": [
    "import unittest\n",
    "\n",
    "class TestStringMethods(unittest.TestCase):\n",
    "\n",
    "    def test_upper(self):\n",
    "        self.assertEqual('foo'.upper(), 'FOO')\n",
    "\n",
    "    def test_isupper(self):\n",
    "        self.assertTrue('FOO'.isupper())\n",
    "        self.assertFalse('Foo'.isupper())\n",
    "\n",
    "    def test_split(self):\n",
    "        s = 'hello world'\n",
    "        self.assertEqual(s.split(), ['hello', 'world'])\n",
    "        # check that s.split fails when the separator is not a string\n",
    "        with self.assertRaises(TypeError):\n",
    "            s.split(2)\n",
    "\n",
    "if __name__ == '__main__':\n",
    "    unittest.main()"
   ]
  },
  {
   "cell_type": "code",
   "execution_count": 61,
   "metadata": {},
   "outputs": [],
   "source": [
    "class InventoryAllocator:\n",
    "    def __init__(self, order, warehouseToInventory):\n",
    "        assert order != None, \"Missing order\"\n",
    "        assert warehouseToInventory != None, \"Missing inventory distribution\"\n",
    "        self.order = order\n",
    "        self.warehouseToInventory = warehouseToInventory\n",
    "        self.cheapestShipment = list() #list of mappings from warehouse to dictionaries of items to counts\n",
    "    def getOrder(self):\n",
    "        return self.order\n",
    "    def getInventoryDistribution(self):\n",
    "        return self.warehouseToInventory\n",
    "    def completeOrder(self):\n",
    "        for warehouse in self.warehouseToInventory:\n",
    "            wareToOutput = dict()\n",
    "            itemsToShipFromThisWarehouse = dict()\n",
    "            for item in self.order.keys():\n",
    "                #check if warehouse inventory field is null maybe?\n",
    "                if item in warehouse[\"inventory\"].keys() and self.order[item] > 0 and warehouse[\"inventory\"][item] > 0:\n",
    "                    amtToOrder = self.order[item]\n",
    "                    amtInStock = warehouse[\"inventory\"][item]\n",
    "                    if amtToOrder <= amtInStock:\n",
    "                        itemsToShipFromThisWarehouse[item] = amtToOrder\n",
    "                        warehouse[\"inventory\"][item] -= amtToOrder\n",
    "                        self.order[item] -= amtToOrder\n",
    "                    else:\n",
    "                        itemsToShipFromThisWarehouse[item] = amtInStock\n",
    "                        warehouse[\"inventory\"][item] = 0\n",
    "                        self.order[item] -= amtInStock\n",
    "            if len(itemsToShipFromThisWarehouse) > 0:\n",
    "                wareToOutput[warehouse[\"name\"]] = itemsToShipFromThisWarehouse\n",
    "                self.cheapestShipment.append(wareToOutput)\n",
    "        return self.cheapestShipment"
   ]
  },
  {
   "cell_type": "code",
   "execution_count": 54,
   "metadata": {},
   "outputs": [],
   "source": [
    "import pytest\n",
    "\n",
    "\n",
    "def test_sum(self):\n",
    "    self.assertEqual(sum([1, 2, 3]), 6, \"Should be 6\")\n",
    "\n",
    "def test_sum_tuple(self):\n",
    "    self.assertEqual(sum((1, 2, 2)), 6, \"Should be 6\")"
   ]
  },
  {
   "cell_type": "code",
   "execution_count": null,
   "metadata": {},
   "outputs": [],
   "source": []
  },
  {
   "cell_type": "code",
   "execution_count": 55,
   "metadata": {},
   "outputs": [
    {
     "data": {
      "text/plain": [
       "[{'owd': {'apple': 5, 'orange': 5}}, {'dm': {'banana': 5}}]"
      ]
     },
     "execution_count": 55,
     "metadata": {},
     "output_type": "execute_result"
    }
   ],
   "source": [
    "# Example from spec\n",
    "order = {\"apple\": 5, \"banana\": 5, \"orange\": 5}\n",
    "invDist = [ { \"name\": \"owd\", \"inventory\": { \"apple\": 5, \"orange\": 10 } }, { \"name\": \"dm\", \"inventory\": { \"banana\": 5, \"orange\": 10 } } ]\n",
    "i = InventoryAllocator(order, invDist)\n",
    "shipment = i.completeOrder()\n",
    "shipment"
   ]
  },
  {
   "cell_type": "code",
   "execution_count": 56,
   "metadata": {},
   "outputs": [
    {
     "data": {
      "text/plain": [
       "[{'owd': {'apple': 1}}]"
      ]
     },
     "execution_count": 56,
     "metadata": {},
     "output_type": "execute_result"
    }
   ],
   "source": [
    "# Exact inventory match\n",
    "input1 = { \"apple\": 1 }\n",
    "inventory1 = [{ \"name\": \"owd\", \"inventory\": { \"apple\": 1 } }]\n",
    "i = InventoryAllocator(input1, inventory1)\n",
    "shipment = i.completeOrder()\n",
    "shipment"
   ]
  },
  {
   "cell_type": "code",
   "execution_count": 58,
   "metadata": {},
   "outputs": [
    {
     "data": {
      "text/plain": [
       "[]"
      ]
     },
     "execution_count": 58,
     "metadata": {},
     "output_type": "execute_result"
    }
   ],
   "source": [
    "# Not enough inventory - no allocations\n",
    "input2 = { \"apple\": 1 }\n",
    "inventory2 = [{ \"name\": \"owd\", \"inventory\": { \"apple\": 0 } }]\n",
    "i = InventoryAllocator(input1, inventory1)\n",
    "shipment = i.completeOrder()\n",
    "shipment"
   ]
  },
  {
   "cell_type": "code",
   "execution_count": 59,
   "metadata": {},
   "outputs": [
    {
     "data": {
      "text/plain": [
       "[{'owd': {'apple': 5}}, {'dm': {'apple': 5}}]"
      ]
     },
     "execution_count": 59,
     "metadata": {},
     "output_type": "execute_result"
    }
   ],
   "source": [
    "# Should split an item across warehouses if that's the only way to completely ship an item\n",
    "input2 = { \"apple\": 10 }\n",
    "inventory2 = [{ \"name\": \"owd\", \"inventory\": { \"apple\": 5 } }, { \"name\": \"dm\", \"inventory\": { \"apple\": 5 } }]\n",
    "i = InventoryAllocator(input2, inventory2)\n",
    "shipment = i.completeOrder()\n",
    "shipment"
   ]
  }
 ],
 "metadata": {
  "kernelspec": {
   "display_name": "Python 3",
   "language": "python",
   "name": "python3"
  },
  "language_info": {
   "codemirror_mode": {
    "name": "ipython",
    "version": 3
   },
   "file_extension": ".py",
   "mimetype": "text/x-python",
   "name": "python",
   "nbconvert_exporter": "python",
   "pygments_lexer": "ipython3",
   "version": "3.6.6"
  }
 },
 "nbformat": 4,
 "nbformat_minor": 2
}
